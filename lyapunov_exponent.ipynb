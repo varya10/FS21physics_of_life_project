{
 "cells": [
  {
   "cell_type": "markdown",
   "metadata": {},
   "source": [
    "# Lyapunov exponent for logistic map\n",
    "\n",
    "The aim of this notebook is to simulate logistic map and Lyapunov exponent. The result is tested on different initial conditions.\n",
    "\n"
   ]
  },
  {
   "cell_type": "code",
   "execution_count": 1,
   "metadata": {},
   "outputs": [],
   "source": [
    "import numpy as np\n",
    "import matplotlib.pyplot as plt\n",
    "%matplotlib inline"
   ]
  },
  {
   "cell_type": "code",
   "execution_count": 2,
   "metadata": {},
   "outputs": [],
   "source": [
    "def logistic_map(mu, n):\n",
    "#define the formula of logistic map\n",
    "    return mu * n * (1 - n)"
   ]
  },
  {
   "cell_type": "code",
   "execution_count": 30,
   "metadata": {},
   "outputs": [],
   "source": [
    "t = 1000 #number of values to simulate, same amount for mu, n, and Lyapunov exponent\n",
    "mu = np.linspace(2.01, 4, t) #place mu values in the linear space between 2.01 and 4\n",
    "n = 0.00001 * np.ones(t) #initialise initial condition\n",
    "#n = 0.000001 * np.ones(t)\n",
    "lyapunov_exp = np.zeros(t) #initialise vector for lambda values"
   ]
  },
  {
   "cell_type": "code",
   "execution_count": 31,
   "metadata": {},
   "outputs": [],
   "source": [
    "steps = 1000 #number of iterations"
   ]
  },
  {
   "cell_type": "code",
   "execution_count": 40,
   "metadata": {},
   "outputs": [
    {
     "data": {
      "text/plain": [
       "Text(0.5, 1.0, 'Lyapunov exponent and logistic map')"
      ]
     },
     "execution_count": 40,
     "metadata": {},
     "output_type": "execute_result"
    },
    {
     "data": {
      "image/png": "[encoded data removed]",
      "text/plain": [
       "<Figure size 576x648 with 1 Axes>"
      ]
     },
     "metadata": {
      "needs_background": "light"
     },
     "output_type": "display_data"
    }
   ],
   "source": [
    "for i in range(steps):\n",
    "    n = logistic_map(mu, n) #implement logistic map\n",
    "    try:\n",
    "        lyapunov_exp += np.log(abs(mu - 2 * mu * n)) #calculate Lyapunov exponent\n",
    "    except ZeroDivisionError:\n",
    "        print(\"you can't divide by zero\")\n",
    "        raise\n",
    "\n",
    "        #plot the simulation    \n",
    "fig = plt.figure(figsize=(8, 9))\n",
    "ax1 = fig.add_subplot(1, 1, 1)\n",
    "ax1.set_xlim(2.01, 4)\n",
    "ax1.set_ylim(-2, 2)\n",
    "ax1.axhline(y=0.0, color='k', linestyle='-', lw=.7)\n",
    "ax1.grid(True)\n",
    "ax1.set_title('Lyapunov exponent and logistic map')"
   ]
  },
  {
   "cell_type": "code",
   "execution_count": null,
   "metadata": {},
   "outputs": [],
   "source": []
  }
 ],
 "metadata": {
  "kernelspec": {
   "display_name": "Python 3",
   "language": "python",
   "name": "python3"
  },
  "language_info": {
   "codemirror_mode": {
    "name": "ipython",
    "version": 3
   },
   "file_extension": ".py",
   "mimetype": "text/x-python",
   "name": "python",
   "nbconvert_exporter": "python",
   "pygments_lexer": "ipython3",
   "version": "3.7.2"
  }
 },
 "nbformat": 4,
 "nbformat_minor": 2
}
